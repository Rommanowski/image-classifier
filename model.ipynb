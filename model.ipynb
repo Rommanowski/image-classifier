{
 "cells": [
  {
   "cell_type": "code",
   "execution_count": 1,
   "id": "8fe7daaa-0c85-49d0-9b48-0541a544565c",
   "metadata": {},
   "outputs": [],
   "source": [
    "import torch\n",
    "import torch.nn as nn\n",
    "import torch.nn.functional as functional\n",
    "import torch.optim as optim\n",
    "from torch.utils.data import TensorDataset, DataLoader\n",
    "from torchvision.datasets import ImageFolder\n",
    "from torchvision import transforms\n",
    "import pandas as pd\n",
    "import numpy as np\n",
    "import matplotlib.pyplot as plt"
   ]
  },
  {
   "cell_type": "code",
   "execution_count": 2,
   "id": "10b852a7-8061-4e2f-8da1-a01eb5d406db",
   "metadata": {},
   "outputs": [],
   "source": [
    "device = torch.device('cuda' if torch.cuda.is_available() else 'cpu')"
   ]
  },
  {
   "cell_type": "code",
   "execution_count": 3,
   "id": "b5ed3c81-3682-4272-a56e-922d5a422f2f",
   "metadata": {},
   "outputs": [],
   "source": [
    "class Net(nn.Module):\n",
    "    def __init__(self):\n",
    "        super().__init__()\n",
    "        self.feature_extractor = nn.Sequential(  \n",
    "            #0\n",
    "            #1x28x28\n",
    "            # 1\n",
    "            nn.Conv2d(1, 32, kernel_size=3, padding=1), \n",
    "            nn.BatchNorm2d(32),\n",
    "            nn.ReLU(),\n",
    "            nn.MaxPool2d(kernel_size=2),   #32x14x14\n",
    "            # 2\n",
    "            nn.Conv2d(32, 64, kernel_size=3, padding=1),\n",
    "            nn.BatchNorm2d(64),\n",
    "            nn.ReLU(),     #64x14x14\n",
    "            # 3\n",
    "            nn.Conv2d(64, 128, kernel_size=3, padding=1),\n",
    "            nn.BatchNorm2d(128),\n",
    "            nn.ReLU(),\n",
    "            nn.MaxPool2d(kernel_size=2),    #128x7x7\n",
    "            #4\n",
    "            nn.Conv2d(128, 128, kernel_size=3, padding=1),\n",
    "            nn.BatchNorm2d(128),\n",
    "            nn.ReLU()    #128x7x7\n",
    "        )\n",
    "        self.classifier = nn.Sequential(\n",
    "            nn.Flatten(),\n",
    "            nn.Linear(128*7*7, 512),\n",
    "            nn.ReLU(),\n",
    "            nn.Dropout(0.25),\n",
    "            nn.Linear(512, 256),\n",
    "            nn.ReLU(),\n",
    "            nn.Dropout(0.25),\n",
    "            nn.Linear(256, 35)\n",
    "        )\n",
    "        \n",
    "    def forward(self, x):\n",
    "        x = x.view(-1, 1, 28, 28)  # Reshape input to (batch_size, 1, 28, 28)\n",
    "        x = self.feature_extractor(x)\n",
    "        x = self.classifier(x)\n",
    "        x = x.squeeze(),
    "        return x"
   ]
  },
  {
   "cell_type": "code",
   "execution_count": 4,
   "id": "fb5f54b6-40e2-401d-9542-7482fc616cee",
   "metadata": {},
   "outputs": [],
   "source": [
    "def sharpen_image(tensor, upper_treshold=0.75, lower_treshold=0.25):\n",
    "    # Ustawiamy piksele < 0.5 na 0\n",
    "    tensor[tensor > upper_treshold] = 1\n",
    "    tensor[tensor < lower_treshold] = 0\n",
    "    #tensor[(tensor < upper_treshold) & (tensor > lower_treshold)] = 0.5\n",
    "    return tensor"
   ]
  },
  {
   "cell_type": "code",
   "execution_count": 5,
   "id": "da45f536-c35f-4207-80c5-dc2d66779c5b",
   "metadata": {},
   "outputs": [],
   "source": [
    "class OneHotImageFolder(ImageFolder):\n",
    "    def __init__(self, root, transform=None, num_classes=None):\n",
    "        super().__init__(root, transform=transform)\n",
    "        self.num_classes = num_classes if num_classes else len(self.classes)  # Auto-detect class count\n",
    "\n",
    "    def __getitem__(self, idx):\n",
    "        image, label = super().__getitem__(idx)\n",
    "        one_hot_label = functional.one_hot(torch.tensor(label), num_classes=self.num_classes).float().to(device)\n",
    "        return image, one_hot_label  # Return one-hot encoded labels\n"
   ]
  },
  {
   "cell_type": "code",
   "execution_count": 6,
   "id": "c36ac3bd-58fa-44b9-af35-605afc394f33",
   "metadata": {},
   "outputs": [],
   "source": [
    "train_transforms=transforms.Compose([\n",
    "    transforms.Grayscale(num_output_channels=1),\n",
    "    transforms.RandomHorizontalFlip(),\n",
    "    transforms.RandomRotation(45),\n",
    "    transforms.ToTensor(),\n",
    "    transforms.Lambda(lambda x: x.to(device)),\n",
    "    transforms.Resize((28,28)),\n",
    "    transforms.Lambda(lambda x: 1 - x),\n",
    "    transforms.Lambda(lambda x: sharpen_image(x, 0.7, 0.2))\n",
    "])"
   ]
  },
  {
   "cell_type": "code",
   "execution_count": 7,
   "id": "77ba2f55-94d0-4cc0-819e-f2eef13a0a5f",
   "metadata": {},
   "outputs": [],
   "source": [
    "test_transforms=transforms.Compose([\n",
    "    transforms.Grayscale(num_output_channels=1),\n",
    "    transforms.ToTensor(),\n",
    "    transforms.Lambda(lambda x: x.to(device)),\n",
    "    transforms.Resize((28,28)),\n",
    "    transforms.Lambda(lambda x: 1-x),\n",
    "    transforms.Lambda(lambda x: sharpen_image(x, 0.7, 0.2))\n",
    "])"
   ]
  },
  {
   "cell_type": "code",
   "execution_count": 8,
   "id": "342721c5-18af-4b08-870e-24505c3a726d",
   "metadata": {},
   "outputs": [],
   "source": [
    "user_transforms=transforms.Compose([\n",
    "    transforms.Grayscale(num_output_channels=1),\n",
    "    transforms.ToTensor(),\n",
    "    transforms.Lambda(lambda x: x.to(device)),\n",
    "    transforms.Lambda(lambda x: 1-x),\n",
    "    nn.MaxPool2d(kernel_size=2),\n",
    "    transforms.Lambda(lambda x: sharpen_image(x, 0.7, 0.4)),\n",
    "    #nn.MaxPool2d(kernel_size=2),\n",
    "    transforms.Resize((28,28)),\n",
    "    transforms.Lambda(lambda x: 1-x),\n",
    "    transforms.Lambda(lambda x: sharpen_image(x, 0.6, 0.4)),\n",
    "])"
   ]
  },
  {
   "cell_type": "code",
   "execution_count": 9,
   "id": "18fb86e0-f5c1-4b9e-a965-4b73fad9976a",
   "metadata": {},
   "outputs": [],
   "source": [
    "dataset_train = OneHotImageFolder(\n",
    "    \"images_train\",\n",
    "    transform = train_transforms,\n",
    ")\n",
    "dataset_test = OneHotImageFolder(\n",
    "    \"images_test\",\n",
    "    transform = test_transforms,\n",
    ")\n",
    "dataset_user = OneHotImageFolder(\n",
    "    \"images_user\",\n",
    "    transform = user_transforms,\n",
    ")"
   ]
  },
  {
   "cell_type": "code",
   "execution_count": 10,
   "id": "5a541b06-8d8b-4bd4-a878-d3d49afae6c0",
   "metadata": {},
   "outputs": [],
   "source": [
    "dataloader_train = DataLoader(dataset_train, batch_size=128, shuffle=True)\n",
    "dataloader_test = DataLoader(dataset_train, batch_size=32, shuffle=True)"
   ]
  },
  {
   "cell_type": "code",
   "execution_count": 11,
   "id": "a9677c71-ae5f-4904-af00-a8a1852964ec",
   "metadata": {},
   "outputs": [],
   "source": [
    "class_to_idx = dataset_train.class_to_idx\n",
    "idx_to_class = {v:k for k,v in class_to_idx.items()}"
   ]
  },
  {
   "cell_type": "code",
   "execution_count": 12,
   "id": "bbc8d59d-c050-4e6e-9c07-7061ae25fbf0",
   "metadata": {
    "scrolled": true
   },
   "outputs": [],
   "source": [
    "def show_train(index):\n",
    "    image, label = dataset_train[index]\n",
    "    img_arr = image.detach().cpu().numpy().squeeze()\n",
    "    plt.imshow(img_arr, cmap='gray')\n",
    "    plt.show()"
   ]
  },
  {
   "cell_type": "code",
   "execution_count": 54,
   "id": "f3683b37-a815-49c1-8ac3-096519b0866a",
   "metadata": {},
   "outputs": [],
   "source": [
    "def show_test(index, model):\n",
    "    image, label = dataset_test[index]\n",
    "    output = model(image)\n",
    "    index_predicted = np.argmax(output.detach().cpu().numpy().squeeze())\n",
    "    img_arr = image.detach().cpu().numpy().squeeze()\n",
    "    plt.imshow(img_arr, cmap='gray')\n",
    "    plt.show()\n",
    "    print(idx_to_class[np.argmax(label.cpu().numpy())])\n",
    "    print(f\"guess: {idx_to_class[index_predicted]}\")"
   ]
  },
  {
   "cell_type": "code",
   "execution_count": 64,
   "id": "9f14c82c-0610-4923-a4e0-744839813a1b",
   "metadata": {},
   "outputs": [],
   "source": [
    "def show_user(model):\n",
    "    for i in range(len(dataset_user)):\n",
    "        i = i * 1\n",
    "        image, label = dataset_user[i]\n",
    "        output = model(image)\n",
    "        index_predicted = np.argmax(output.detach().cpu().numpy().squeeze())\n",
    "        img_arr = image.detach().cpu().numpy().squeeze()\n",
    "        plt.imshow(img_arr, cmap='gray')\n",
    "        plt.show()\n",
    "        print(f\"guess: {idx_to_class[index_predicted]}\")"
   ]
  },
  {
   "cell_type": "code",
   "execution_count": 15,
   "id": "17e59b8f-91a1-46c7-9a4b-b171e525e95d",
   "metadata": {},
   "outputs": [],
   "source": [
    "net = Net().to(device)"
   ]
  },
  {
   "cell_type": "code",
   "execution_count": 21,
   "id": "2c8792e8-ae94-4131-9533-9cbc97c20633",
   "metadata": {},
   "outputs": [],
   "source": [
    "criterion = nn.CrossEntropyLoss()\n",
    "optimizer = optim.Adam(net.parameters(), lr=0.001)"
   ]
  },
  {
   "cell_type": "code",
   "execution_count": 70,
   "id": "ceebcadf-9e05-4525-b886-9cc81d36781f",
   "metadata": {
    "scrolled": true
   },
   "outputs": [
    {
     "name": "stdout",
     "output_type": "stream",
     "text": [
      "epoch [1/100]:    batch:[0/5469]  loss: 0.31555724143981934\n",
      "epoch [1/100]:    batch:[500/5469]  loss: 0.3038148349690104\n",
      "epoch [1/100]:    batch:[1000/5469]  loss: 0.30742621990469665\n",
      "epoch [1/100]:    batch:[1500/5469]  loss: 0.3085914612570895\n",
      "epoch [1/100]:    batch:[2000/5469]  loss: 0.3078741690424131\n",
      "epoch [1/100]:    batch:[2500/5469]  loss: 0.3064401820659494\n",
      "epoch [1/100]:    batch:[3000/5469]  loss: 0.3062825311311719\n",
      "epoch [1/100]:    batch:[3500/5469]  loss: 0.3063767820200863\n",
      "epoch [1/100]:    batch:[4000/5469]  loss: 0.30568876023055375\n",
      "epoch [1/100]:    batch:[4500/5469]  loss: 0.305587375090867\n",
      "epoch [1/100]:    batch:[5000/5469]  loss: 0.305418955318226\n",
      "--------------------------------------------------------------------------------------------------------------------------------\n",
      "epoch [1/100]: loss: 0.305456\n",
      "--------------------------------------------------------------------------------------------------------------------------------\n",
      "epoch [2/100]:    batch:[0/5469]  loss: 0.34158873558044434\n",
      "epoch [2/100]:    batch:[500/5469]  loss: 0.31056793997744603\n",
      "epoch [2/100]:    batch:[1000/5469]  loss: 0.30889008464394035\n",
      "epoch [2/100]:    batch:[1500/5469]  loss: 0.307639643669049\n",
      "epoch [2/100]:    batch:[2000/5469]  loss: 0.305847498050694\n",
      "epoch [2/100]:    batch:[2500/5469]  loss: 0.30509796581927034\n",
      "epoch [2/100]:    batch:[3000/5469]  loss: 0.3042688272602953\n",
      "epoch [2/100]:    batch:[3500/5469]  loss: 0.3043348692768269\n",
      "epoch [2/100]:    batch:[4000/5469]  loss: 0.304431633971179\n",
      "epoch [2/100]:    batch:[4500/5469]  loss: 0.3043683586028437\n",
      "epoch [2/100]:    batch:[5000/5469]  loss: 0.3038824561076793\n",
      "--------------------------------------------------------------------------------------------------------------------------------\n",
      "epoch [2/100]: loss: 0.303745\n",
      "--------------------------------------------------------------------------------------------------------------------------------\n",
      "epoch [3/100]:    batch:[0/5469]  loss: 0.4250727593898773\n",
      "epoch [3/100]:    batch:[500/5469]  loss: 0.3043606529781918\n",
      "epoch [3/100]:    batch:[1000/5469]  loss: 0.3033715198774795\n",
      "epoch [3/100]:    batch:[1500/5469]  loss: 0.3052055971482291\n",
      "epoch [3/100]:    batch:[2000/5469]  loss: 0.3051332494486933\n",
      "epoch [3/100]:    batch:[2500/5469]  loss: 0.30500161609069104\n",
      "epoch [3/100]:    batch:[3000/5469]  loss: 0.3058168462830478\n",
      "epoch [3/100]:    batch:[3500/5469]  loss: 0.30591803853833927\n",
      "epoch [3/100]:    batch:[4000/5469]  loss: 0.3051984250932835\n",
      "epoch [3/100]:    batch:[4500/5469]  loss: 0.30502907788785294\n",
      "epoch [3/100]:    batch:[5000/5469]  loss: 0.30468477285955936\n",
      "--------------------------------------------------------------------------------------------------------------------------------\n",
      "epoch [3/100]: loss: 0.304627\n",
      "--------------------------------------------------------------------------------------------------------------------------------\n",
      "epoch [4/100]:    batch:[0/5469]  loss: 0.2973197102546692\n",
      "epoch [4/100]:    batch:[500/5469]  loss: 0.29783580334719545\n",
      "epoch [4/100]:    batch:[1000/5469]  loss: 0.30005890691464954\n",
      "epoch [4/100]:    batch:[1500/5469]  loss: 0.30097687505508247\n",
      "epoch [4/100]:    batch:[2000/5469]  loss: 0.30228833866113425\n",
      "epoch [4/100]:    batch:[2500/5469]  loss: 0.30193843226321265\n",
      "epoch [4/100]:    batch:[3000/5469]  loss: 0.30324731508728586\n",
      "epoch [4/100]:    batch:[3500/5469]  loss: 0.3034917978121362\n",
      "epoch [4/100]:    batch:[4000/5469]  loss: 0.30358749099766663\n",
      "epoch [4/100]:    batch:[4500/5469]  loss: 0.30391809138370285\n",
      "epoch [4/100]:    batch:[5000/5469]  loss: 0.30428420925850724\n",
      "--------------------------------------------------------------------------------------------------------------------------------\n",
      "epoch [4/100]: loss: 0.303885\n",
      "--------------------------------------------------------------------------------------------------------------------------------\n",
      "epoch [5/100]:    batch:[0/5469]  loss: 0.388472318649292\n",
      "epoch [5/100]:    batch:[500/5469]  loss: 0.30653241770472117\n",
      "epoch [5/100]:    batch:[1000/5469]  loss: 0.3080140814840139\n",
      "epoch [5/100]:    batch:[1500/5469]  loss: 0.3056609814789278\n",
      "epoch [5/100]:    batch:[2000/5469]  loss: 0.30517454922705634\n",
      "epoch [5/100]:    batch:[2500/5469]  loss: 0.3044532526825152\n",
      "epoch [5/100]:    batch:[3000/5469]  loss: 0.30392280855563353\n",
      "epoch [5/100]:    batch:[3500/5469]  loss: 0.3038934720320996\n",
      "epoch [5/100]:    batch:[4000/5469]  loss: 0.30408460461394665\n",
      "epoch [5/100]:    batch:[4500/5469]  loss: 0.30409884616199584\n",
      "epoch [5/100]:    batch:[5000/5469]  loss: 0.30396646413176664\n",
      "--------------------------------------------------------------------------------------------------------------------------------\n",
      "epoch [5/100]: loss: 0.304581\n",
      "--------------------------------------------------------------------------------------------------------------------------------\n",
      "epoch [6/100]:    batch:[0/5469]  loss: 0.2923217713832855\n",
      "epoch [6/100]:    batch:[500/5469]  loss: 0.3122046860213765\n",
      "epoch [6/100]:    batch:[1000/5469]  loss: 0.3110954468245511\n",
      "epoch [6/100]:    batch:[1500/5469]  loss: 0.30880131418608886\n",
      "epoch [6/100]:    batch:[2000/5469]  loss: 0.3096567304252923\n",
      "epoch [6/100]:    batch:[2500/5469]  loss: 0.30793084414219296\n",
      "epoch [6/100]:    batch:[3000/5469]  loss: 0.3071816956344464\n",
      "epoch [6/100]:    batch:[3500/5469]  loss: 0.3064062654997614\n",
      "epoch [6/100]:    batch:[4000/5469]  loss: 0.30611694529298783\n",
      "epoch [6/100]:    batch:[4500/5469]  loss: 0.3054574504213263\n",
      "epoch [6/100]:    batch:[5000/5469]  loss: 0.3054917013077849\n",
      "--------------------------------------------------------------------------------------------------------------------------------\n",
      "epoch [6/100]: loss: 0.305512\n",
      "--------------------------------------------------------------------------------------------------------------------------------\n",
      "epoch [7/100]:    batch:[0/5469]  loss: 0.13547873497009277\n",
      "epoch [7/100]:    batch:[500/5469]  loss: 0.30921763086509324\n",
      "epoch [7/100]:    batch:[1000/5469]  loss: 0.3076012475001109\n",
      "epoch [7/100]:    batch:[1500/5469]  loss: 0.30497844774352956\n",
      "epoch [7/100]:    batch:[2000/5469]  loss: 0.3044181384931857\n",
      "epoch [7/100]:    batch:[2500/5469]  loss: 0.3039134676601352\n"
     ]
    },
    {
     "ename": "KeyboardInterrupt",
     "evalue": "",
     "output_type": "error",
     "traceback": [
      "\u001b[0;31m---------------------------------------------------------------------------\u001b[0m",
      "\u001b[0;31mKeyboardInterrupt\u001b[0m                         Traceback (most recent call last)",
      "Cell \u001b[0;32mIn[70], line 5\u001b[0m\n\u001b[1;32m      3\u001b[0m net\u001b[38;5;241m.\u001b[39mtrain()\n\u001b[1;32m      4\u001b[0m train_loss \u001b[38;5;241m=\u001b[39m \u001b[38;5;241m0.0\u001b[39m\n\u001b[0;32m----> 5\u001b[0m \u001b[38;5;28;01mfor\u001b[39;00m batch_idx, (features, labels) \u001b[38;5;129;01min\u001b[39;00m \u001b[38;5;28menumerate\u001b[39m(dataloader_train):\n\u001b[1;32m      6\u001b[0m     optimizer\u001b[38;5;241m.\u001b[39mzero_grad()\n\u001b[1;32m      7\u001b[0m     outputs \u001b[38;5;241m=\u001b[39m net(features)\n",
      "File \u001b[0;32m~/anaconda3/lib/python3.12/site-packages/torch/utils/data/dataloader.py:708\u001b[0m, in \u001b[0;36m_BaseDataLoaderIter.__next__\u001b[0;34m(self)\u001b[0m\n\u001b[1;32m    705\u001b[0m \u001b[38;5;28;01mif\u001b[39;00m \u001b[38;5;28mself\u001b[39m\u001b[38;5;241m.\u001b[39m_sampler_iter \u001b[38;5;129;01mis\u001b[39;00m \u001b[38;5;28;01mNone\u001b[39;00m:\n\u001b[1;32m    706\u001b[0m     \u001b[38;5;66;03m# TODO(https://github.com/pytorch/pytorch/issues/76750)\u001b[39;00m\n\u001b[1;32m    707\u001b[0m     \u001b[38;5;28mself\u001b[39m\u001b[38;5;241m.\u001b[39m_reset()  \u001b[38;5;66;03m# type: ignore[call-arg]\u001b[39;00m\n\u001b[0;32m--> 708\u001b[0m data \u001b[38;5;241m=\u001b[39m \u001b[38;5;28mself\u001b[39m\u001b[38;5;241m.\u001b[39m_next_data()\n\u001b[1;32m    709\u001b[0m \u001b[38;5;28mself\u001b[39m\u001b[38;5;241m.\u001b[39m_num_yielded \u001b[38;5;241m+\u001b[39m\u001b[38;5;241m=\u001b[39m \u001b[38;5;241m1\u001b[39m\n\u001b[1;32m    710\u001b[0m \u001b[38;5;28;01mif\u001b[39;00m (\n\u001b[1;32m    711\u001b[0m     \u001b[38;5;28mself\u001b[39m\u001b[38;5;241m.\u001b[39m_dataset_kind \u001b[38;5;241m==\u001b[39m _DatasetKind\u001b[38;5;241m.\u001b[39mIterable\n\u001b[1;32m    712\u001b[0m     \u001b[38;5;129;01mand\u001b[39;00m \u001b[38;5;28mself\u001b[39m\u001b[38;5;241m.\u001b[39m_IterableDataset_len_called \u001b[38;5;129;01mis\u001b[39;00m \u001b[38;5;129;01mnot\u001b[39;00m \u001b[38;5;28;01mNone\u001b[39;00m\n\u001b[1;32m    713\u001b[0m     \u001b[38;5;129;01mand\u001b[39;00m \u001b[38;5;28mself\u001b[39m\u001b[38;5;241m.\u001b[39m_num_yielded \u001b[38;5;241m>\u001b[39m \u001b[38;5;28mself\u001b[39m\u001b[38;5;241m.\u001b[39m_IterableDataset_len_called\n\u001b[1;32m    714\u001b[0m ):\n",
      "File \u001b[0;32m~/anaconda3/lib/python3.12/site-packages/torch/utils/data/dataloader.py:764\u001b[0m, in \u001b[0;36m_SingleProcessDataLoaderIter._next_data\u001b[0;34m(self)\u001b[0m\n\u001b[1;32m    762\u001b[0m \u001b[38;5;28;01mdef\u001b[39;00m \u001b[38;5;21m_next_data\u001b[39m(\u001b[38;5;28mself\u001b[39m):\n\u001b[1;32m    763\u001b[0m     index \u001b[38;5;241m=\u001b[39m \u001b[38;5;28mself\u001b[39m\u001b[38;5;241m.\u001b[39m_next_index()  \u001b[38;5;66;03m# may raise StopIteration\u001b[39;00m\n\u001b[0;32m--> 764\u001b[0m     data \u001b[38;5;241m=\u001b[39m \u001b[38;5;28mself\u001b[39m\u001b[38;5;241m.\u001b[39m_dataset_fetcher\u001b[38;5;241m.\u001b[39mfetch(index)  \u001b[38;5;66;03m# may raise StopIteration\u001b[39;00m\n\u001b[1;32m    765\u001b[0m     \u001b[38;5;28;01mif\u001b[39;00m \u001b[38;5;28mself\u001b[39m\u001b[38;5;241m.\u001b[39m_pin_memory:\n\u001b[1;32m    766\u001b[0m         data \u001b[38;5;241m=\u001b[39m _utils\u001b[38;5;241m.\u001b[39mpin_memory\u001b[38;5;241m.\u001b[39mpin_memory(data, \u001b[38;5;28mself\u001b[39m\u001b[38;5;241m.\u001b[39m_pin_memory_device)\n",
      "File \u001b[0;32m~/anaconda3/lib/python3.12/site-packages/torch/utils/data/_utils/fetch.py:52\u001b[0m, in \u001b[0;36m_MapDatasetFetcher.fetch\u001b[0;34m(self, possibly_batched_index)\u001b[0m\n\u001b[1;32m     50\u001b[0m         data \u001b[38;5;241m=\u001b[39m \u001b[38;5;28mself\u001b[39m\u001b[38;5;241m.\u001b[39mdataset\u001b[38;5;241m.\u001b[39m__getitems__(possibly_batched_index)\n\u001b[1;32m     51\u001b[0m     \u001b[38;5;28;01melse\u001b[39;00m:\n\u001b[0;32m---> 52\u001b[0m         data \u001b[38;5;241m=\u001b[39m [\u001b[38;5;28mself\u001b[39m\u001b[38;5;241m.\u001b[39mdataset[idx] \u001b[38;5;28;01mfor\u001b[39;00m idx \u001b[38;5;129;01min\u001b[39;00m possibly_batched_index]\n\u001b[1;32m     53\u001b[0m \u001b[38;5;28;01melse\u001b[39;00m:\n\u001b[1;32m     54\u001b[0m     data \u001b[38;5;241m=\u001b[39m \u001b[38;5;28mself\u001b[39m\u001b[38;5;241m.\u001b[39mdataset[possibly_batched_index]\n",
      "Cell \u001b[0;32mIn[5], line 7\u001b[0m, in \u001b[0;36mOneHotImageFolder.__getitem__\u001b[0;34m(self, idx)\u001b[0m\n\u001b[1;32m      6\u001b[0m \u001b[38;5;28;01mdef\u001b[39;00m \u001b[38;5;21m__getitem__\u001b[39m(\u001b[38;5;28mself\u001b[39m, idx):\n\u001b[0;32m----> 7\u001b[0m     image, label \u001b[38;5;241m=\u001b[39m \u001b[38;5;28msuper\u001b[39m()\u001b[38;5;241m.\u001b[39m\u001b[38;5;21m__getitem__\u001b[39m(idx)\n\u001b[1;32m      8\u001b[0m     one_hot_label \u001b[38;5;241m=\u001b[39m functional\u001b[38;5;241m.\u001b[39mone_hot(torch\u001b[38;5;241m.\u001b[39mtensor(label), num_classes\u001b[38;5;241m=\u001b[39m\u001b[38;5;28mself\u001b[39m\u001b[38;5;241m.\u001b[39mnum_classes)\u001b[38;5;241m.\u001b[39mfloat()\u001b[38;5;241m.\u001b[39mto(device)\n\u001b[1;32m      9\u001b[0m     \u001b[38;5;28;01mreturn\u001b[39;00m image, one_hot_label\n",
      "File \u001b[0;32m~/anaconda3/lib/python3.12/site-packages/torchvision/datasets/folder.py:247\u001b[0m, in \u001b[0;36mDatasetFolder.__getitem__\u001b[0;34m(self, index)\u001b[0m\n\u001b[1;32m    245\u001b[0m sample \u001b[38;5;241m=\u001b[39m \u001b[38;5;28mself\u001b[39m\u001b[38;5;241m.\u001b[39mloader(path)\n\u001b[1;32m    246\u001b[0m \u001b[38;5;28;01mif\u001b[39;00m \u001b[38;5;28mself\u001b[39m\u001b[38;5;241m.\u001b[39mtransform \u001b[38;5;129;01mis\u001b[39;00m \u001b[38;5;129;01mnot\u001b[39;00m \u001b[38;5;28;01mNone\u001b[39;00m:\n\u001b[0;32m--> 247\u001b[0m     sample \u001b[38;5;241m=\u001b[39m \u001b[38;5;28mself\u001b[39m\u001b[38;5;241m.\u001b[39mtransform(sample)\n\u001b[1;32m    248\u001b[0m \u001b[38;5;28;01mif\u001b[39;00m \u001b[38;5;28mself\u001b[39m\u001b[38;5;241m.\u001b[39mtarget_transform \u001b[38;5;129;01mis\u001b[39;00m \u001b[38;5;129;01mnot\u001b[39;00m \u001b[38;5;28;01mNone\u001b[39;00m:\n\u001b[1;32m    249\u001b[0m     target \u001b[38;5;241m=\u001b[39m \u001b[38;5;28mself\u001b[39m\u001b[38;5;241m.\u001b[39mtarget_transform(target)\n",
      "File \u001b[0;32m~/anaconda3/lib/python3.12/site-packages/torchvision/transforms/transforms.py:95\u001b[0m, in \u001b[0;36mCompose.__call__\u001b[0;34m(self, img)\u001b[0m\n\u001b[1;32m     93\u001b[0m \u001b[38;5;28;01mdef\u001b[39;00m \u001b[38;5;21m__call__\u001b[39m(\u001b[38;5;28mself\u001b[39m, img):\n\u001b[1;32m     94\u001b[0m     \u001b[38;5;28;01mfor\u001b[39;00m t \u001b[38;5;129;01min\u001b[39;00m \u001b[38;5;28mself\u001b[39m\u001b[38;5;241m.\u001b[39mtransforms:\n\u001b[0;32m---> 95\u001b[0m         img \u001b[38;5;241m=\u001b[39m t(img)\n\u001b[1;32m     96\u001b[0m     \u001b[38;5;28;01mreturn\u001b[39;00m img\n",
      "\u001b[0;31mKeyboardInterrupt\u001b[0m: "
     ]
    }
   ],
   "source": [
    "num_epochs = 100\n",
    "for epoch in range(num_epochs):\n",
    "    net.train()\n",
    "    train_loss = 0.0\n",
    "    for batch_idx, (features, labels) in enumerate(dataloader_train):\n",
    "        optimizer.zero_grad()\n",
    "        outputs = net(features)\n",
    "        loss = criterion(outputs, labels)\n",
    "        loss.backward()\n",
    "        optimizer.step()\n",
    "        \n",
    "        train_loss += loss.item()\n",
    "        \n",
    "        if batch_idx%500 == 0:\n",
    "            print(f\"epoch [{epoch+1}/{num_epochs}]:    batch:[{batch_idx}/{len(dataloader_train)}]  loss: {train_loss/(batch_idx+1)}\")\n",
    "            \n",
    "    print('--------------------------------------------------------------------------------------------------------------------------------')\n",
    "    print(f\"epoch [{epoch+1}/{num_epochs}]: loss: {train_loss/len(dataloader_train):.6f}\")\n",
    "    print('--------------------------------------------------------------------------------------------------------------------------------')\n",
    "    torch.save(net, f\"model_full_epoch{epoch+1}.pth\")"
   ]
  },
  {
   "cell_type": "code",
   "execution_count": 71,
   "id": "db35fda3-6e5e-41cf-a886-f112dce7812c",
   "metadata": {},
   "outputs": [],
   "source": [
    "torch.save(net.state_dict(), 'model_full_dict.pth')"
   ]
  },
  {
   "cell_type": "code",
   "execution_count": 66,
   "id": "f2bf3864-230e-41a0-ae10-107b57f46e01",
   "metadata": {},
   "outputs": [
    {
     "data": {
      "text/plain": [
       "Net(\n",
       "  (feature_extractor): Sequential(\n",
       "    (0): Conv2d(1, 32, kernel_size=(3, 3), stride=(1, 1), padding=(1, 1))\n",
       "    (1): BatchNorm2d(32, eps=1e-05, momentum=0.1, affine=True, track_running_stats=True)\n",
       "    (2): ReLU()\n",
       "    (3): MaxPool2d(kernel_size=2, stride=2, padding=0, dilation=1, ceil_mode=False)\n",
       "    (4): Conv2d(32, 64, kernel_size=(3, 3), stride=(1, 1), padding=(1, 1))\n",
       "    (5): BatchNorm2d(64, eps=1e-05, momentum=0.1, affine=True, track_running_stats=True)\n",
       "    (6): ReLU()\n",
       "    (7): Conv2d(64, 128, kernel_size=(3, 3), stride=(1, 1), padding=(1, 1))\n",
       "    (8): BatchNorm2d(128, eps=1e-05, momentum=0.1, affine=True, track_running_stats=True)\n",
       "    (9): ReLU()\n",
       "    (10): MaxPool2d(kernel_size=2, stride=2, padding=0, dilation=1, ceil_mode=False)\n",
       "    (11): Conv2d(128, 128, kernel_size=(3, 3), stride=(1, 1), padding=(1, 1))\n",
       "    (12): BatchNorm2d(128, eps=1e-05, momentum=0.1, affine=True, track_running_stats=True)\n",
       "    (13): ReLU()\n",
       "  )\n",
       "  (classifier): Sequential(\n",
       "    (0): Flatten(start_dim=1, end_dim=-1)\n",
       "    (1): Linear(in_features=6272, out_features=512, bias=True)\n",
       "    (2): ReLU()\n",
       "    (3): Dropout(p=0.25, inplace=False)\n",
       "    (4): Linear(in_features=512, out_features=256, bias=True)\n",
       "    (5): ReLU()\n",
       "    (6): Dropout(p=0.25, inplace=False)\n",
       "    (7): Linear(in_features=256, out_features=35, bias=True)\n",
       "  )\n",
       ")"
      ]
     },
     "execution_count": 66,
     "metadata": {},
     "output_type": "execute_result"
    }
   ],
   "source": [
    "net_imported = Net()\n",
    "net_imported.load_state_dict(torch.load(\"model_full_dict.pth\", weights_only=True))\n",
    "net_imported = net_imported.to(device)\n",
    "net_imported.eval()"
   ]
  },
  {
   "cell_type": "code",
   "execution_count": 69,
   "id": "034cac54-67c0-4c4c-ac8a-e2907a9c3c02",
   "metadata": {},
   "outputs": [],
   "source": [
    "net = torch.load(\"model_full_niedz.pth\", weights_only=False)"
   ]
  },
  {
   "cell_type": "code",
   "execution_count": null,
   "id": "a6ce5afa-6fad-400c-acb6-0e00933008b2",
   "metadata": {},
   "outputs": [],
   "source": []
  }
 ],
 "metadata": {
  "kernelspec": {
   "display_name": "Python 3 (ipykernel)",
   "language": "python",
   "name": "python3"
  },
  "language_info": {
   "codemirror_mode": {
    "name": "ipython",
    "version": 3
   },
   "file_extension": ".py",
   "mimetype": "text/x-python",
   "name": "python",
   "nbconvert_exporter": "python",
   "pygments_lexer": "ipython3",
   "version": "3.12.7"
  }
 },
 "nbformat": 4,
 "nbformat_minor": 5
}
